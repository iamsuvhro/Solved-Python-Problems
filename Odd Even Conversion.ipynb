{
 "cells": [
  {
   "cell_type": "code",
   "execution_count": 26,
   "metadata": {},
   "outputs": [
    {
     "name": "stdout",
     "output_type": "stream",
     "text": [
      "Odd\n",
      "Odd\n",
      "Even\n",
      "Odd\n",
      "Even\n",
      "Odd\n",
      "Even\n",
      "Odd\n",
      "Odd\n",
      "\n",
      "\n",
      "------------------------After Conversion--------------------------- \n",
      "\n",
      "Even\n",
      "Even\n",
      "Even\n",
      "Even\n",
      "Even\n",
      "Even\n",
      "Even\n",
      "Even\n",
      "Even\n"
     ]
    }
   ],
   "source": [
    "# Generating or Converting Odd to Even\n",
    "a = [1,5,2,7,4,9,8,13,15]\n",
    "b = []\n",
    "for i in range(0,len(a)):\n",
    "    if (a[i]%2) != 0:\n",
    "        temp = a[i]*2\n",
    "        b.append(temp)\n",
    "    elif (a[i]%2) == 0:\n",
    "        temp = a[i]*1\n",
    "        b.append(temp)\n",
    "\n",
    "#Checking the final conversation of Odd to Even\n",
    "for i in range(0,len(a)):\n",
    "    if (a[i]%2) != 0:\n",
    "        print(\"Odd\")\n",
    "    else:\n",
    "        print(\"Even\")\n",
    "print(\"\\n\")\n",
    "print(\"------------------------After Conversion--------------------------- \\n\")\n",
    "for i in range(0,len(b)):\n",
    "    if (b[i]%2) != 0:\n",
    "        print(\"Odd\")\n",
    "    else:\n",
    "        print(\"Even\")"
   ]
  },
  {
   "cell_type": "code",
   "execution_count": null,
   "metadata": {},
   "outputs": [],
   "source": []
  },
  {
   "cell_type": "code",
   "execution_count": null,
   "metadata": {},
   "outputs": [],
   "source": []
  },
  {
   "cell_type": "code",
   "execution_count": null,
   "metadata": {},
   "outputs": [],
   "source": []
  },
  {
   "cell_type": "code",
   "execution_count": null,
   "metadata": {},
   "outputs": [],
   "source": []
  }
 ],
 "metadata": {
  "kernelspec": {
   "display_name": "Python 3",
   "language": "python",
   "name": "python3"
  },
  "language_info": {
   "codemirror_mode": {
    "name": "ipython",
    "version": 3
   },
   "file_extension": ".py",
   "mimetype": "text/x-python",
   "name": "python",
   "nbconvert_exporter": "python",
   "pygments_lexer": "ipython3",
   "version": "3.7.6"
  }
 },
 "nbformat": 4,
 "nbformat_minor": 4
}
